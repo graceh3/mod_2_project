{
 "cells": [
  {
   "cell_type": "code",
   "execution_count": 122,
   "metadata": {},
   "outputs": [],
   "source": [
    "import requests\n",
    "import json\n",
    "import pandas as pd\n",
    "import matplotlib.pyplot as plt\n",
    "import numpy as np\n",
    "import statsmodels.api as sm\n",
    "import statsmodels.stats.api as sms\n",
    "import statsmodels.formula.api as smf\n",
    "import scipy.stats as stats\n",
    "from geopy.geocoders import Nominatim\n",
    "import time"
   ]
  },
  {
   "cell_type": "code",
   "execution_count": 224,
   "metadata": {},
   "outputs": [
    {
     "name": "stdout",
     "output_type": "stream",
     "text": [
      "Bronx Park East, Birchall Avenue, Bronxdale, The Bronx, Bronx County, NYC, New York, 10462, USA\n"
     ]
    }
   ],
   "source": [
    "geolocator = Nominatim(user_agent=\"grace\")\n",
    "location = geolocator.reverse(\"40.84916900104506, -73.86835600032798\")\n",
    "print(location.address)"
   ]
  },
  {
   "cell_type": "code",
   "execution_count": 169,
   "metadata": {},
   "outputs": [],
   "source": [
    "import uszipcode\n",
    "from uszipcode import Zipcode\n",
    "from uszipcode import SearchEngine\n",
    "search = SearchEngine(simple_zipcode=False)"
   ]
  },
  {
   "cell_type": "code",
   "execution_count": 221,
   "metadata": {},
   "outputs": [],
   "source": [
    "def coord_to_zip(lat, long, radius=3, returns=1):\n",
    "    result = search.by_coordinates(float(lat), float(long), radius=radius, returns=returns)\n",
    "    try:\n",
    "        return result[0].to_dict()['zipcode']\n",
    "    except:\n",
    "        return \"No zipcode found\""
   ]
  },
  {
   "cell_type": "code",
   "execution_count": 164,
   "metadata": {},
   "outputs": [],
   "source": [
    "def address_from_coord(lat, long):\n",
    "    start = time.time()\n",
    "    geolocator = Nominatim(user_agent=\"jdmitchell\")\n",
    "    location = geolocator.reverse(f'{lat}, {long}')\n",
    "    if time.time()-start<1:\n",
    "        time.sleep(1.01-(time.time()-start))\n",
    "    return location.address"
   ]
  },
  {
   "cell_type": "code",
   "execution_count": 165,
   "metadata": {},
   "outputs": [],
   "source": [
    "def zipcode_from_coord(lat, long):\n",
    "    return address_from_coord(lat, long).split(\", \")[-2]"
   ]
  },
  {
   "cell_type": "code",
   "execution_count": 166,
   "metadata": {},
   "outputs": [
    {
     "ename": "GeocoderQuotaExceeded",
     "evalue": "HTTP Error 429: Too Many Requests",
     "output_type": "error",
     "traceback": [
      "\u001b[0;31m---------------------------------------------------------------------------\u001b[0m",
      "\u001b[0;31mHTTPError\u001b[0m                                 Traceback (most recent call last)",
      "\u001b[0;32m/anaconda3/lib/python3.7/site-packages/geopy/geocoders/base.py\u001b[0m in \u001b[0;36m_call_geocoder\u001b[0;34m(self, url, timeout, raw, requester, deserializer, **kwargs)\u001b[0m\n\u001b[1;32m    343\u001b[0m         \u001b[0;32mtry\u001b[0m\u001b[0;34m:\u001b[0m\u001b[0;34m\u001b[0m\u001b[0;34m\u001b[0m\u001b[0m\n\u001b[0;32m--> 344\u001b[0;31m             \u001b[0mpage\u001b[0m \u001b[0;34m=\u001b[0m \u001b[0mrequester\u001b[0m\u001b[0;34m(\u001b[0m\u001b[0mreq\u001b[0m\u001b[0;34m,\u001b[0m \u001b[0mtimeout\u001b[0m\u001b[0;34m=\u001b[0m\u001b[0mtimeout\u001b[0m\u001b[0;34m,\u001b[0m \u001b[0;34m**\u001b[0m\u001b[0mkwargs\u001b[0m\u001b[0;34m)\u001b[0m\u001b[0;34m\u001b[0m\u001b[0;34m\u001b[0m\u001b[0m\n\u001b[0m\u001b[1;32m    345\u001b[0m         \u001b[0;32mexcept\u001b[0m \u001b[0mException\u001b[0m \u001b[0;32mas\u001b[0m \u001b[0merror\u001b[0m\u001b[0;34m:\u001b[0m\u001b[0;34m\u001b[0m\u001b[0;34m\u001b[0m\u001b[0m\n",
      "\u001b[0;32m/anaconda3/lib/python3.7/urllib/request.py\u001b[0m in \u001b[0;36mopen\u001b[0;34m(self, fullurl, data, timeout)\u001b[0m\n\u001b[1;32m    530\u001b[0m             \u001b[0mmeth\u001b[0m \u001b[0;34m=\u001b[0m \u001b[0mgetattr\u001b[0m\u001b[0;34m(\u001b[0m\u001b[0mprocessor\u001b[0m\u001b[0;34m,\u001b[0m \u001b[0mmeth_name\u001b[0m\u001b[0;34m)\u001b[0m\u001b[0;34m\u001b[0m\u001b[0;34m\u001b[0m\u001b[0m\n\u001b[0;32m--> 531\u001b[0;31m             \u001b[0mresponse\u001b[0m \u001b[0;34m=\u001b[0m \u001b[0mmeth\u001b[0m\u001b[0;34m(\u001b[0m\u001b[0mreq\u001b[0m\u001b[0;34m,\u001b[0m \u001b[0mresponse\u001b[0m\u001b[0;34m)\u001b[0m\u001b[0;34m\u001b[0m\u001b[0;34m\u001b[0m\u001b[0m\n\u001b[0m\u001b[1;32m    532\u001b[0m \u001b[0;34m\u001b[0m\u001b[0m\n",
      "\u001b[0;32m/anaconda3/lib/python3.7/urllib/request.py\u001b[0m in \u001b[0;36mhttp_response\u001b[0;34m(self, request, response)\u001b[0m\n\u001b[1;32m    640\u001b[0m             response = self.parent.error(\n\u001b[0;32m--> 641\u001b[0;31m                 'http', request, response, code, msg, hdrs)\n\u001b[0m\u001b[1;32m    642\u001b[0m \u001b[0;34m\u001b[0m\u001b[0m\n",
      "\u001b[0;32m/anaconda3/lib/python3.7/urllib/request.py\u001b[0m in \u001b[0;36merror\u001b[0;34m(self, proto, *args)\u001b[0m\n\u001b[1;32m    568\u001b[0m             \u001b[0margs\u001b[0m \u001b[0;34m=\u001b[0m \u001b[0;34m(\u001b[0m\u001b[0mdict\u001b[0m\u001b[0;34m,\u001b[0m \u001b[0;34m'default'\u001b[0m\u001b[0;34m,\u001b[0m \u001b[0;34m'http_error_default'\u001b[0m\u001b[0;34m)\u001b[0m \u001b[0;34m+\u001b[0m \u001b[0morig_args\u001b[0m\u001b[0;34m\u001b[0m\u001b[0;34m\u001b[0m\u001b[0m\n\u001b[0;32m--> 569\u001b[0;31m             \u001b[0;32mreturn\u001b[0m \u001b[0mself\u001b[0m\u001b[0;34m.\u001b[0m\u001b[0m_call_chain\u001b[0m\u001b[0;34m(\u001b[0m\u001b[0;34m*\u001b[0m\u001b[0margs\u001b[0m\u001b[0;34m)\u001b[0m\u001b[0;34m\u001b[0m\u001b[0;34m\u001b[0m\u001b[0m\n\u001b[0m\u001b[1;32m    570\u001b[0m \u001b[0;34m\u001b[0m\u001b[0m\n",
      "\u001b[0;32m/anaconda3/lib/python3.7/urllib/request.py\u001b[0m in \u001b[0;36m_call_chain\u001b[0;34m(self, chain, kind, meth_name, *args)\u001b[0m\n\u001b[1;32m    502\u001b[0m             \u001b[0mfunc\u001b[0m \u001b[0;34m=\u001b[0m \u001b[0mgetattr\u001b[0m\u001b[0;34m(\u001b[0m\u001b[0mhandler\u001b[0m\u001b[0;34m,\u001b[0m \u001b[0mmeth_name\u001b[0m\u001b[0;34m)\u001b[0m\u001b[0;34m\u001b[0m\u001b[0;34m\u001b[0m\u001b[0m\n\u001b[0;32m--> 503\u001b[0;31m             \u001b[0mresult\u001b[0m \u001b[0;34m=\u001b[0m \u001b[0mfunc\u001b[0m\u001b[0;34m(\u001b[0m\u001b[0;34m*\u001b[0m\u001b[0margs\u001b[0m\u001b[0;34m)\u001b[0m\u001b[0;34m\u001b[0m\u001b[0;34m\u001b[0m\u001b[0m\n\u001b[0m\u001b[1;32m    504\u001b[0m             \u001b[0;32mif\u001b[0m \u001b[0mresult\u001b[0m \u001b[0;32mis\u001b[0m \u001b[0;32mnot\u001b[0m \u001b[0;32mNone\u001b[0m\u001b[0;34m:\u001b[0m\u001b[0;34m\u001b[0m\u001b[0;34m\u001b[0m\u001b[0m\n",
      "\u001b[0;32m/anaconda3/lib/python3.7/urllib/request.py\u001b[0m in \u001b[0;36mhttp_error_default\u001b[0;34m(self, req, fp, code, msg, hdrs)\u001b[0m\n\u001b[1;32m    648\u001b[0m     \u001b[0;32mdef\u001b[0m \u001b[0mhttp_error_default\u001b[0m\u001b[0;34m(\u001b[0m\u001b[0mself\u001b[0m\u001b[0;34m,\u001b[0m \u001b[0mreq\u001b[0m\u001b[0;34m,\u001b[0m \u001b[0mfp\u001b[0m\u001b[0;34m,\u001b[0m \u001b[0mcode\u001b[0m\u001b[0;34m,\u001b[0m \u001b[0mmsg\u001b[0m\u001b[0;34m,\u001b[0m \u001b[0mhdrs\u001b[0m\u001b[0;34m)\u001b[0m\u001b[0;34m:\u001b[0m\u001b[0;34m\u001b[0m\u001b[0;34m\u001b[0m\u001b[0m\n\u001b[0;32m--> 649\u001b[0;31m         \u001b[0;32mraise\u001b[0m \u001b[0mHTTPError\u001b[0m\u001b[0;34m(\u001b[0m\u001b[0mreq\u001b[0m\u001b[0;34m.\u001b[0m\u001b[0mfull_url\u001b[0m\u001b[0;34m,\u001b[0m \u001b[0mcode\u001b[0m\u001b[0;34m,\u001b[0m \u001b[0mmsg\u001b[0m\u001b[0;34m,\u001b[0m \u001b[0mhdrs\u001b[0m\u001b[0;34m,\u001b[0m \u001b[0mfp\u001b[0m\u001b[0;34m)\u001b[0m\u001b[0;34m\u001b[0m\u001b[0;34m\u001b[0m\u001b[0m\n\u001b[0m\u001b[1;32m    650\u001b[0m \u001b[0;34m\u001b[0m\u001b[0m\n",
      "\u001b[0;31mHTTPError\u001b[0m: HTTP Error 429: Too Many Requests",
      "\nDuring handling of the above exception, another exception occurred:\n",
      "\u001b[0;31mGeocoderQuotaExceeded\u001b[0m                     Traceback (most recent call last)",
      "\u001b[0;32m<ipython-input-166-d6b43cf94a75>\u001b[0m in \u001b[0;36m<module>\u001b[0;34m\u001b[0m\n\u001b[0;32m----> 1\u001b[0;31m \u001b[0maddress_from_coord\u001b[0m\u001b[0;34m(\u001b[0m\u001b[0;36m40.84916900104506\u001b[0m\u001b[0;34m,\u001b[0m \u001b[0;34m-\u001b[0m\u001b[0;36m73.86835600032798\u001b[0m\u001b[0;34m)\u001b[0m\u001b[0;34m\u001b[0m\u001b[0;34m\u001b[0m\u001b[0m\n\u001b[0m",
      "\u001b[0;32m<ipython-input-164-294230b7941c>\u001b[0m in \u001b[0;36maddress_from_coord\u001b[0;34m(lat, long)\u001b[0m\n\u001b[1;32m      2\u001b[0m     \u001b[0mstart\u001b[0m \u001b[0;34m=\u001b[0m \u001b[0mtime\u001b[0m\u001b[0;34m.\u001b[0m\u001b[0mtime\u001b[0m\u001b[0;34m(\u001b[0m\u001b[0;34m)\u001b[0m\u001b[0;34m\u001b[0m\u001b[0;34m\u001b[0m\u001b[0m\n\u001b[1;32m      3\u001b[0m     \u001b[0mgeolocator\u001b[0m \u001b[0;34m=\u001b[0m \u001b[0mNominatim\u001b[0m\u001b[0;34m(\u001b[0m\u001b[0muser_agent\u001b[0m\u001b[0;34m=\u001b[0m\u001b[0;34m\"jdmitchell\"\u001b[0m\u001b[0;34m)\u001b[0m\u001b[0;34m\u001b[0m\u001b[0;34m\u001b[0m\u001b[0m\n\u001b[0;32m----> 4\u001b[0;31m     \u001b[0mlocation\u001b[0m \u001b[0;34m=\u001b[0m \u001b[0mgeolocator\u001b[0m\u001b[0;34m.\u001b[0m\u001b[0mreverse\u001b[0m\u001b[0;34m(\u001b[0m\u001b[0;34mf'{lat}, {long}'\u001b[0m\u001b[0;34m)\u001b[0m\u001b[0;34m\u001b[0m\u001b[0;34m\u001b[0m\u001b[0m\n\u001b[0m\u001b[1;32m      5\u001b[0m     \u001b[0;32mif\u001b[0m \u001b[0mtime\u001b[0m\u001b[0;34m.\u001b[0m\u001b[0mtime\u001b[0m\u001b[0;34m(\u001b[0m\u001b[0;34m)\u001b[0m\u001b[0;34m-\u001b[0m\u001b[0mstart\u001b[0m\u001b[0;34m<\u001b[0m\u001b[0;36m1\u001b[0m\u001b[0;34m:\u001b[0m\u001b[0;34m\u001b[0m\u001b[0;34m\u001b[0m\u001b[0m\n\u001b[1;32m      6\u001b[0m         \u001b[0mtime\u001b[0m\u001b[0;34m.\u001b[0m\u001b[0msleep\u001b[0m\u001b[0;34m(\u001b[0m\u001b[0;36m1.01\u001b[0m\u001b[0;34m-\u001b[0m\u001b[0;34m(\u001b[0m\u001b[0mtime\u001b[0m\u001b[0;34m.\u001b[0m\u001b[0mtime\u001b[0m\u001b[0;34m(\u001b[0m\u001b[0;34m)\u001b[0m\u001b[0;34m-\u001b[0m\u001b[0mstart\u001b[0m\u001b[0;34m)\u001b[0m\u001b[0;34m)\u001b[0m\u001b[0;34m\u001b[0m\u001b[0;34m\u001b[0m\u001b[0m\n",
      "\u001b[0;32m/anaconda3/lib/python3.7/site-packages/geopy/geocoders/osm.py\u001b[0m in \u001b[0;36mreverse\u001b[0;34m(self, query, exactly_one, timeout, language, addressdetails)\u001b[0m\n\u001b[1;32m    369\u001b[0m \u001b[0;34m\u001b[0m\u001b[0m\n\u001b[1;32m    370\u001b[0m         return self._parse_json(\n\u001b[0;32m--> 371\u001b[0;31m             \u001b[0mself\u001b[0m\u001b[0;34m.\u001b[0m\u001b[0m_call_geocoder\u001b[0m\u001b[0;34m(\u001b[0m\u001b[0murl\u001b[0m\u001b[0;34m,\u001b[0m \u001b[0mtimeout\u001b[0m\u001b[0;34m=\u001b[0m\u001b[0mtimeout\u001b[0m\u001b[0;34m)\u001b[0m\u001b[0;34m,\u001b[0m \u001b[0mexactly_one\u001b[0m\u001b[0;34m\u001b[0m\u001b[0;34m\u001b[0m\u001b[0m\n\u001b[0m\u001b[1;32m    372\u001b[0m         )\n\u001b[1;32m    373\u001b[0m \u001b[0;34m\u001b[0m\u001b[0m\n",
      "\u001b[0;32m/anaconda3/lib/python3.7/site-packages/geopy/geocoders/base.py\u001b[0m in \u001b[0;36m_call_geocoder\u001b[0;34m(self, url, timeout, raw, requester, deserializer, **kwargs)\u001b[0m\n\u001b[1;32m    360\u001b[0m                                 exc_info=False)\n\u001b[1;32m    361\u001b[0m                 \u001b[0;32mtry\u001b[0m\u001b[0;34m:\u001b[0m\u001b[0;34m\u001b[0m\u001b[0;34m\u001b[0m\u001b[0m\n\u001b[0;32m--> 362\u001b[0;31m                     \u001b[0;32mraise\u001b[0m \u001b[0mERROR_CODE_MAP\u001b[0m\u001b[0;34m[\u001b[0m\u001b[0mcode\u001b[0m\u001b[0;34m]\u001b[0m\u001b[0;34m(\u001b[0m\u001b[0mmessage\u001b[0m\u001b[0;34m)\u001b[0m\u001b[0;34m\u001b[0m\u001b[0;34m\u001b[0m\u001b[0m\n\u001b[0m\u001b[1;32m    363\u001b[0m                 \u001b[0;32mexcept\u001b[0m \u001b[0mKeyError\u001b[0m\u001b[0;34m:\u001b[0m\u001b[0;34m\u001b[0m\u001b[0;34m\u001b[0m\u001b[0m\n\u001b[1;32m    364\u001b[0m                     \u001b[0;32mraise\u001b[0m \u001b[0mGeocoderServiceError\u001b[0m\u001b[0;34m(\u001b[0m\u001b[0mmessage\u001b[0m\u001b[0;34m)\u001b[0m\u001b[0;34m\u001b[0m\u001b[0;34m\u001b[0m\u001b[0m\n",
      "\u001b[0;31mGeocoderQuotaExceeded\u001b[0m: HTTP Error 429: Too Many Requests"
     ]
    }
   ],
   "source": [
    "address_from_coord(40.84916900104506, -73.86835600032798)"
   ]
  },
  {
   "cell_type": "code",
   "execution_count": 137,
   "metadata": {},
   "outputs": [
    {
     "data": {
      "text/plain": [
       "'10462'"
      ]
     },
     "execution_count": 137,
     "metadata": {},
     "output_type": "execute_result"
    }
   ],
   "source": [
    "zipcode_from_coord(40.84916900104506, -73.86835600032798)"
   ]
  },
  {
   "cell_type": "code",
   "execution_count": 13,
   "metadata": {},
   "outputs": [],
   "source": [
    "df_subway = pd.read_csv(\"subway_entrances.csv\")"
   ]
  },
  {
   "cell_type": "code",
   "execution_count": 82,
   "metadata": {},
   "outputs": [],
   "source": [
    "df_subway['latlong']=df_subway['the_geom'].str[7:-1]"
   ]
  },
  {
   "cell_type": "code",
   "execution_count": 83,
   "metadata": {},
   "outputs": [
    {
     "data": {
      "text/html": [
       "<div>\n",
       "<style scoped>\n",
       "    .dataframe tbody tr th:only-of-type {\n",
       "        vertical-align: middle;\n",
       "    }\n",
       "\n",
       "    .dataframe tbody tr th {\n",
       "        vertical-align: top;\n",
       "    }\n",
       "\n",
       "    .dataframe thead th {\n",
       "        text-align: right;\n",
       "    }\n",
       "</style>\n",
       "<table border=\"1\" class=\"dataframe\">\n",
       "  <thead>\n",
       "    <tr style=\"text-align: right;\">\n",
       "      <th></th>\n",
       "      <th>OBJECTID</th>\n",
       "      <th>URL</th>\n",
       "      <th>NAME</th>\n",
       "      <th>the_geom</th>\n",
       "      <th>LINE</th>\n",
       "      <th>latlong</th>\n",
       "      <th>lat</th>\n",
       "      <th>long</th>\n",
       "    </tr>\n",
       "  </thead>\n",
       "  <tbody>\n",
       "    <tr>\n",
       "      <th>0</th>\n",
       "      <td>1734</td>\n",
       "      <td>http://web.mta.info/nyct/service/</td>\n",
       "      <td>Birchall Ave &amp; Sagamore St at NW corner</td>\n",
       "      <td>POINT (-73.86835600032798 40.84916900104506)</td>\n",
       "      <td>2-5</td>\n",
       "      <td>-73.86835600032798 40.84916900104506</td>\n",
       "      <td>40.84916900104506</td>\n",
       "      <td>-73.86835600032798</td>\n",
       "    </tr>\n",
       "  </tbody>\n",
       "</table>\n",
       "</div>"
      ],
      "text/plain": [
       "   OBJECTID                                URL  \\\n",
       "0      1734  http://web.mta.info/nyct/service/   \n",
       "\n",
       "                                      NAME  \\\n",
       "0  Birchall Ave & Sagamore St at NW corner   \n",
       "\n",
       "                                       the_geom LINE  \\\n",
       "0  POINT (-73.86835600032798 40.84916900104506)  2-5   \n",
       "\n",
       "                                latlong                lat                long  \n",
       "0  -73.86835600032798 40.84916900104506  40.84916900104506  -73.86835600032798  "
      ]
     },
     "execution_count": 83,
     "metadata": {},
     "output_type": "execute_result"
    }
   ],
   "source": [
    "df_subway[df_subway.latlong == '-73.86835600032798 40.84916900104506']"
   ]
  },
  {
   "cell_type": "code",
   "execution_count": 115,
   "metadata": {},
   "outputs": [],
   "source": [
    "df_exerpt_subway = df_subway[:10]"
   ]
  },
  {
   "cell_type": "code",
   "execution_count": 121,
   "metadata": {},
   "outputs": [
    {
     "data": {
      "text/html": [
       "<div>\n",
       "<style scoped>\n",
       "    .dataframe tbody tr th:only-of-type {\n",
       "        vertical-align: middle;\n",
       "    }\n",
       "\n",
       "    .dataframe tbody tr th {\n",
       "        vertical-align: top;\n",
       "    }\n",
       "\n",
       "    .dataframe thead th {\n",
       "        text-align: right;\n",
       "    }\n",
       "</style>\n",
       "<table border=\"1\" class=\"dataframe\">\n",
       "  <thead>\n",
       "    <tr style=\"text-align: right;\">\n",
       "      <th></th>\n",
       "      <th>OBJECTID</th>\n",
       "      <th>URL</th>\n",
       "      <th>NAME</th>\n",
       "      <th>the_geom</th>\n",
       "      <th>LINE</th>\n",
       "      <th>latlong</th>\n",
       "      <th>lat</th>\n",
       "      <th>long</th>\n",
       "      <th>zipcode</th>\n",
       "    </tr>\n",
       "  </thead>\n",
       "  <tbody>\n",
       "    <tr>\n",
       "      <th>0</th>\n",
       "      <td>1734</td>\n",
       "      <td>http://web.mta.info/nyct/service/</td>\n",
       "      <td>Birchall Ave &amp; Sagamore St at NW corner</td>\n",
       "      <td>POINT (-73.86835600032798 40.84916900104506)</td>\n",
       "      <td>2-5</td>\n",
       "      <td>[-73.86835600032798, 40.84916900104506]</td>\n",
       "      <td>40.84916900104506</td>\n",
       "      <td>-73.86835600032798</td>\n",
       "      <td>10462</td>\n",
       "    </tr>\n",
       "    <tr>\n",
       "      <th>1</th>\n",
       "      <td>1735</td>\n",
       "      <td>http://web.mta.info/nyct/service/</td>\n",
       "      <td>Birchall Ave &amp; Sagamore St at NE corner</td>\n",
       "      <td>POINT (-73.86821300022677 40.84912800131844)</td>\n",
       "      <td>2-5</td>\n",
       "      <td>[-73.86821300022677, 40.84912800131844]</td>\n",
       "      <td>40.84912800131844</td>\n",
       "      <td>-73.86821300022677</td>\n",
       "      <td>10462</td>\n",
       "    </tr>\n",
       "    <tr>\n",
       "      <th>2</th>\n",
       "      <td>1736</td>\n",
       "      <td>http://web.mta.info/nyct/service/</td>\n",
       "      <td>Morris Park Ave &amp; 180th St at NW corner</td>\n",
       "      <td>POINT (-73.87349900050798 40.84122300105249)</td>\n",
       "      <td>2-5</td>\n",
       "      <td>[-73.87349900050798, 40.84122300105249]</td>\n",
       "      <td>40.84122300105249</td>\n",
       "      <td>-73.87349900050798</td>\n",
       "      <td>10460</td>\n",
       "    </tr>\n",
       "    <tr>\n",
       "      <th>3</th>\n",
       "      <td>1737</td>\n",
       "      <td>http://web.mta.info/nyct/service/</td>\n",
       "      <td>Morris Park Ave &amp; 180th St at NW corner</td>\n",
       "      <td>POINT (-73.8728919997833 40.84145300067447)</td>\n",
       "      <td>2-5</td>\n",
       "      <td>[-73.8728919997833, 40.84145300067447]</td>\n",
       "      <td>40.84145300067447</td>\n",
       "      <td>-73.8728919997833</td>\n",
       "      <td>10460</td>\n",
       "    </tr>\n",
       "    <tr>\n",
       "      <th>4</th>\n",
       "      <td>1738</td>\n",
       "      <td>http://web.mta.info/nyct/service/</td>\n",
       "      <td>Boston Rd &amp; 178th St at SW corner</td>\n",
       "      <td>POINT (-73.87962300013866 40.84081500075867)</td>\n",
       "      <td>2-5</td>\n",
       "      <td>[-73.87962300013866, 40.84081500075867]</td>\n",
       "      <td>40.84081500075867</td>\n",
       "      <td>-73.87962300013866</td>\n",
       "      <td>10460</td>\n",
       "    </tr>\n",
       "    <tr>\n",
       "      <th>5</th>\n",
       "      <td>1739</td>\n",
       "      <td>http://web.mta.info/nyct/service/</td>\n",
       "      <td>Boston Rd &amp; E Tremont Ave at NW corner</td>\n",
       "      <td>POINT (-73.88000500027815 40.840434000875874)</td>\n",
       "      <td>2-5</td>\n",
       "      <td>[-73.88000500027815, 40.840434000875874]</td>\n",
       "      <td>40.840434000875874</td>\n",
       "      <td>-73.88000500027815</td>\n",
       "      <td>10460</td>\n",
       "    </tr>\n",
       "    <tr>\n",
       "      <th>6</th>\n",
       "      <td>1740</td>\n",
       "      <td>http://web.mta.info/nyct/service/</td>\n",
       "      <td>Boston Rd &amp; E Tremont Ave at NE corner</td>\n",
       "      <td>POINT (-73.87983300021861 40.84035400111976)</td>\n",
       "      <td>2-5</td>\n",
       "      <td>[-73.87983300021861, 40.84035400111976]</td>\n",
       "      <td>40.84035400111976</td>\n",
       "      <td>-73.87983300021861</td>\n",
       "      <td>10460</td>\n",
       "    </tr>\n",
       "    <tr>\n",
       "      <th>7</th>\n",
       "      <td>1741</td>\n",
       "      <td>http://web.mta.info/nyct/service/</td>\n",
       "      <td>Boston Rd &amp; 178th St at SE corner</td>\n",
       "      <td>POINT (-73.8795549998336 40.84063900116436)</td>\n",
       "      <td>2-5</td>\n",
       "      <td>[-73.8795549998336, 40.84063900116436]</td>\n",
       "      <td>40.84063900116436</td>\n",
       "      <td>-73.8795549998336</td>\n",
       "      <td>10460</td>\n",
       "    </tr>\n",
       "    <tr>\n",
       "      <th>8</th>\n",
       "      <td>1742</td>\n",
       "      <td>http://web.mta.info/nyct/service/</td>\n",
       "      <td>Boston Rd &amp; 178th St at NW corner</td>\n",
       "      <td>POINT (-73.87939700013239 40.84107800066419)</td>\n",
       "      <td>2-5</td>\n",
       "      <td>[-73.87939700013239, 40.84107800066419]</td>\n",
       "      <td>40.84107800066419</td>\n",
       "      <td>-73.87939700013239</td>\n",
       "      <td>10460</td>\n",
       "    </tr>\n",
       "    <tr>\n",
       "      <th>9</th>\n",
       "      <td>1743</td>\n",
       "      <td>http://web.mta.info/nyct/service/</td>\n",
       "      <td>Boston Rd &amp; 174th St at SW corner</td>\n",
       "      <td>POINT (-73.88804799985908 40.83732500129732)</td>\n",
       "      <td>2-5</td>\n",
       "      <td>[-73.88804799985908, 40.83732500129732]</td>\n",
       "      <td>40.83732500129732</td>\n",
       "      <td>-73.88804799985908</td>\n",
       "      <td>10460</td>\n",
       "    </tr>\n",
       "  </tbody>\n",
       "</table>\n",
       "</div>"
      ],
      "text/plain": [
       "   OBJECTID                                URL  \\\n",
       "0      1734  http://web.mta.info/nyct/service/   \n",
       "1      1735  http://web.mta.info/nyct/service/   \n",
       "2      1736  http://web.mta.info/nyct/service/   \n",
       "3      1737  http://web.mta.info/nyct/service/   \n",
       "4      1738  http://web.mta.info/nyct/service/   \n",
       "5      1739  http://web.mta.info/nyct/service/   \n",
       "6      1740  http://web.mta.info/nyct/service/   \n",
       "7      1741  http://web.mta.info/nyct/service/   \n",
       "8      1742  http://web.mta.info/nyct/service/   \n",
       "9      1743  http://web.mta.info/nyct/service/   \n",
       "\n",
       "                                      NAME  \\\n",
       "0  Birchall Ave & Sagamore St at NW corner   \n",
       "1  Birchall Ave & Sagamore St at NE corner   \n",
       "2  Morris Park Ave & 180th St at NW corner   \n",
       "3  Morris Park Ave & 180th St at NW corner   \n",
       "4        Boston Rd & 178th St at SW corner   \n",
       "5   Boston Rd & E Tremont Ave at NW corner   \n",
       "6   Boston Rd & E Tremont Ave at NE corner   \n",
       "7        Boston Rd & 178th St at SE corner   \n",
       "8        Boston Rd & 178th St at NW corner   \n",
       "9        Boston Rd & 174th St at SW corner   \n",
       "\n",
       "                                        the_geom LINE  \\\n",
       "0   POINT (-73.86835600032798 40.84916900104506)  2-5   \n",
       "1   POINT (-73.86821300022677 40.84912800131844)  2-5   \n",
       "2   POINT (-73.87349900050798 40.84122300105249)  2-5   \n",
       "3    POINT (-73.8728919997833 40.84145300067447)  2-5   \n",
       "4   POINT (-73.87962300013866 40.84081500075867)  2-5   \n",
       "5  POINT (-73.88000500027815 40.840434000875874)  2-5   \n",
       "6   POINT (-73.87983300021861 40.84035400111976)  2-5   \n",
       "7    POINT (-73.8795549998336 40.84063900116436)  2-5   \n",
       "8   POINT (-73.87939700013239 40.84107800066419)  2-5   \n",
       "9   POINT (-73.88804799985908 40.83732500129732)  2-5   \n",
       "\n",
       "                                    latlong                 lat  \\\n",
       "0   [-73.86835600032798, 40.84916900104506]   40.84916900104506   \n",
       "1   [-73.86821300022677, 40.84912800131844]   40.84912800131844   \n",
       "2   [-73.87349900050798, 40.84122300105249]   40.84122300105249   \n",
       "3    [-73.8728919997833, 40.84145300067447]   40.84145300067447   \n",
       "4   [-73.87962300013866, 40.84081500075867]   40.84081500075867   \n",
       "5  [-73.88000500027815, 40.840434000875874]  40.840434000875874   \n",
       "6   [-73.87983300021861, 40.84035400111976]   40.84035400111976   \n",
       "7    [-73.8795549998336, 40.84063900116436]   40.84063900116436   \n",
       "8   [-73.87939700013239, 40.84107800066419]   40.84107800066419   \n",
       "9   [-73.88804799985908, 40.83732500129732]   40.83732500129732   \n",
       "\n",
       "                 long zipcode  \n",
       "0  -73.86835600032798   10462  \n",
       "1  -73.86821300022677   10462  \n",
       "2  -73.87349900050798   10460  \n",
       "3   -73.8728919997833   10460  \n",
       "4  -73.87962300013866   10460  \n",
       "5  -73.88000500027815   10460  \n",
       "6  -73.87983300021861   10460  \n",
       "7   -73.8795549998336   10460  \n",
       "8  -73.87939700013239   10460  \n",
       "9  -73.88804799985908   10460  "
      ]
     },
     "execution_count": 121,
     "metadata": {},
     "output_type": "execute_result"
    }
   ],
   "source": [
    "df_exerpt_subway"
   ]
  },
  {
   "cell_type": "code",
   "execution_count": 119,
   "metadata": {},
   "outputs": [
    {
     "name": "stderr",
     "output_type": "stream",
     "text": [
      "/anaconda3/lib/python3.7/site-packages/ipykernel_launcher.py:1: SettingWithCopyWarning: \n",
      "A value is trying to be set on a copy of a slice from a DataFrame.\n",
      "Try using .loc[row_indexer,col_indexer] = value instead\n",
      "\n",
      "See the caveats in the documentation: http://pandas.pydata.org/pandas-docs/stable/indexing.html#indexing-view-versus-copy\n",
      "  \"\"\"Entry point for launching an IPython kernel.\n"
     ]
    }
   ],
   "source": [
    "df_exerpt_subway['zipcode'] = df_exerpt_subway.latlong.apply(lambda x: zipcode_from_coord(x[1], x[0]))"
   ]
  },
  {
   "cell_type": "code",
   "execution_count": 85,
   "metadata": {},
   "outputs": [],
   "source": [
    "df_subway['latlong'] = df_subway.latlong.str.split(' ')"
   ]
  },
  {
   "cell_type": "code",
   "execution_count": 86,
   "metadata": {},
   "outputs": [],
   "source": [
    "df_subway['lat'] = df_subway['latlong'].apply(lambda x: x[1])"
   ]
  },
  {
   "cell_type": "code",
   "execution_count": 87,
   "metadata": {},
   "outputs": [],
   "source": [
    "df_subway['long'] = df_subway['latlong'].apply(lambda x: x[0])"
   ]
  },
  {
   "cell_type": "code",
   "execution_count": 222,
   "metadata": {},
   "outputs": [],
   "source": [
    "df_subway['zipcode'] = df_subway.latlong.apply(lambda x: coord_to_zip(x[1], x[0]))\n",
    "#df_subway['zipcode'] = df_subway.iloc[1:10].latlong.apply(lambda x: coord_to_zip(x[1], x[0]))\n",
    "#make sure it's not deleting everything besides the section currently being updated"
   ]
  },
  {
   "cell_type": "code",
   "execution_count": 227,
   "metadata": {},
   "outputs": [
    {
     "data": {
      "text/plain": [
       "136"
      ]
     },
     "execution_count": 227,
     "metadata": {},
     "output_type": "execute_result"
    }
   ],
   "source": [
    "df_subway.zipcode.nunique()"
   ]
  },
  {
   "cell_type": "code",
   "execution_count": 203,
   "metadata": {},
   "outputs": [
    {
     "data": {
      "text/plain": [
       "'10455'"
      ]
     },
     "execution_count": 203,
     "metadata": {},
     "output_type": "execute_result"
    }
   ],
   "source": [
    "coord_to_zip(40.81958300055107,-73.90195799960925)"
   ]
  },
  {
   "cell_type": "code",
   "execution_count": null,
   "metadata": {},
   "outputs": [],
   "source": []
  },
  {
   "cell_type": "code",
   "execution_count": null,
   "metadata": {},
   "outputs": [],
   "source": []
  }
 ],
 "metadata": {
  "kernelspec": {
   "display_name": "base",
   "language": "python",
   "name": "base"
  },
  "language_info": {
   "codemirror_mode": {
    "name": "ipython",
    "version": 3
   },
   "file_extension": ".py",
   "mimetype": "text/x-python",
   "name": "python",
   "nbconvert_exporter": "python",
   "pygments_lexer": "ipython3",
   "version": "3.7.1"
  },
  "varInspector": {
   "cols": {
    "lenName": 16,
    "lenType": 16,
    "lenVar": 40
   },
   "kernels_config": {
    "python": {
     "delete_cmd_postfix": "",
     "delete_cmd_prefix": "del ",
     "library": "var_list.py",
     "varRefreshCmd": "print(var_dic_list())"
    },
    "r": {
     "delete_cmd_postfix": ") ",
     "delete_cmd_prefix": "rm(",
     "library": "var_list.r",
     "varRefreshCmd": "cat(var_dic_list()) "
    }
   },
   "types_to_exclude": [
    "module",
    "function",
    "builtin_function_or_method",
    "instance",
    "_Feature"
   ],
   "window_display": false
  }
 },
 "nbformat": 4,
 "nbformat_minor": 2
}
