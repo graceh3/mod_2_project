{
 "cells": [
  {
   "cell_type": "code",
   "execution_count": null,
   "metadata": {},
   "outputs": [],
   "source": []
  },
  {
   "cell_type": "markdown",
   "metadata": {},
   "source": [
    "# Latitude and Longitude to Zip Code with uszipcode"
   ]
  },
  {
   "cell_type": "markdown",
   "metadata": {},
   "source": [
    "### geopy is giving much better results. It is used under this section"
   ]
  },
  {
   "cell_type": "code",
   "execution_count": null,
   "metadata": {},
   "outputs": [],
   "source": [
    "!pip install uszipcode"
   ]
  },
  {
   "cell_type": "code",
   "execution_count": 20,
   "metadata": {},
   "outputs": [],
   "source": [
    "import uszipcode"
   ]
  },
  {
   "cell_type": "code",
   "execution_count": 21,
   "metadata": {},
   "outputs": [],
   "source": [
    "from uszipcode import SearchEngine\n",
    "search = SearchEngine(simple_zipcode=False)"
   ]
  },
  {
   "cell_type": "code",
   "execution_count": 22,
   "metadata": {},
   "outputs": [],
   "source": [
    "from uszipcode import Zipcode"
   ]
  },
  {
   "cell_type": "code",
   "execution_count": 31,
   "metadata": {},
   "outputs": [
    {
     "data": {
      "text/plain": [
       "{'zipcode_type': 'Standard',\n",
       " 'major_city': 'New York',\n",
       " 'post_office_city': 'New York, NY',\n",
       " 'common_city_list': ['New York', 'Trinity'],\n",
       " 'county': 'New York County',\n",
       " 'state': 'NY',\n",
       " 'lat': 40.708,\n",
       " 'lng': -74.013,\n",
       " 'timezone': 'Eastern',\n",
       " 'radius_in_miles': 0.2840909090909091,\n",
       " 'area_code_list': ['917', '929'],\n",
       " 'population': 3011,\n",
       " 'population_density': 32796.0,\n",
       " 'land_area_in_sqmi': 0.09,\n",
       " 'water_area_in_sqmi': 0.0,\n",
       " 'housing_units': 1991,\n",
       " 'occupied_housing_units': 1791,\n",
       " 'median_home_value': 714300,\n",
       " 'median_household_income': 119274,\n",
       " 'bounds_west': -74.015905,\n",
       " 'bounds_east': -74.009988,\n",
       " 'bounds_north': 40.71369,\n",
       " 'bounds_south': 40.705871,\n",
       " 'zipcode': '10006',\n",
       " 'polygon': [[-74.015025, 40.70628],\n",
       "  [-74.015129, 40.706315],\n",
       "  [-74.015117, 40.706449],\n",
       "  [-74.015905, 40.706658],\n",
       "  [-74.015804, 40.706928],\n",
       "  [-74.015628, 40.707401],\n",
       "  [-74.015496, 40.707699],\n",
       "  [-74.015177, 40.708485],\n",
       "  [-74.01483, 40.709403],\n",
       "  [-74.014668, 40.709832],\n",
       "  [-74.014455, 40.710392],\n",
       "  [-74.014262, 40.710928],\n",
       "  [-74.013754, 40.71369],\n",
       "  [-74.012544, 40.713179],\n",
       "  [-74.011691, 40.712776],\n",
       "  [-74.010153, 40.712064],\n",
       "  [-74.010465, 40.711535],\n",
       "  [-74.010801, 40.711017],\n",
       "  [-74.011232, 40.710367],\n",
       "  [-74.009988, 40.709806],\n",
       "  [-74.010542, 40.709154],\n",
       "  [-74.010846, 40.708797],\n",
       "  [-74.011012, 40.708594],\n",
       "  [-74.011248, 40.708304],\n",
       "  [-74.011703, 40.707756],\n",
       "  [-74.011947, 40.707452],\n",
       "  [-74.012508, 40.706767],\n",
       "  [-74.013254, 40.705871],\n",
       "  [-74.014137, 40.706173],\n",
       "  [-74.014325, 40.706234],\n",
       "  [-74.014371, 40.706158],\n",
       "  [-74.014696, 40.706216],\n",
       "  [-74.014827, 40.706249],\n",
       "  [-74.015025, 40.70628]],\n",
       " 'population_by_year': [{'key': 'Data',\n",
       "   'values': [{'x': 2005, 'y': 2916},\n",
       "    {'x': 2006, 'y': 2547},\n",
       "    {'x': 2007, 'y': 2663},\n",
       "    {'x': 2008, 'y': 2966},\n",
       "    {'x': 2009, 'y': 3143},\n",
       "    {'x': 2010, 'y': 3021},\n",
       "    {'x': 2011, 'y': 3339},\n",
       "    {'x': 2012, 'y': 3280},\n",
       "    {'x': 2013, 'y': 3180},\n",
       "    {'x': 2014, 'y': 3420},\n",
       "    {'x': 2015, 'y': 3390}]}],\n",
       " 'population_by_age': [{'key': 'Male',\n",
       "   'values': [{'x': 'Under 5', 'y': 39},\n",
       "    {'x': '5-9', 'y': 14},\n",
       "    {'x': '10-14', 'y': 22},\n",
       "    {'x': '15-19', 'y': 16},\n",
       "    {'x': '20-24', 'y': 238},\n",
       "    {'x': '25-29', 'y': 408},\n",
       "    {'x': '30-34', 'y': 305},\n",
       "    {'x': '35-39', 'y': 194},\n",
       "    {'x': '40-44', 'y': 93},\n",
       "    {'x': '45-49', 'y': 69},\n",
       "    {'x': '50-54', 'y': 40},\n",
       "    {'x': '55-59', 'y': 41},\n",
       "    {'x': '60-64', 'y': 24},\n",
       "    {'x': '65-69', 'y': 8},\n",
       "    {'x': '70-74', 'y': 5},\n",
       "    {'x': '75-79', 'y': 1},\n",
       "    {'x': '80-84', 'y': 2},\n",
       "    {'x': '85 Plus', 'y': 0}]},\n",
       "  {'key': 'Female',\n",
       "   'values': [{'x': 'Under 5', 'y': 44},\n",
       "    {'x': '5-9', 'y': 13},\n",
       "    {'x': '10-14', 'y': 17},\n",
       "    {'x': '15-19', 'y': 14},\n",
       "    {'x': '20-24', 'y': 354},\n",
       "    {'x': '25-29', 'y': 438},\n",
       "    {'x': '30-34', 'y': 246},\n",
       "    {'x': '35-39', 'y': 163},\n",
       "    {'x': '40-44', 'y': 72},\n",
       "    {'x': '45-49', 'y': 38},\n",
       "    {'x': '50-54', 'y': 45},\n",
       "    {'x': '55-59', 'y': 20},\n",
       "    {'x': '60-64', 'y': 20},\n",
       "    {'x': '65-69', 'y': 4},\n",
       "    {'x': '70-74', 'y': 3},\n",
       "    {'x': '75-79', 'y': 0},\n",
       "    {'x': '80-84', 'y': 1},\n",
       "    {'x': '85 Plus', 'y': 0}]},\n",
       "  {'key': 'Total',\n",
       "   'values': [{'x': 'Under 5', 'y': 83},\n",
       "    {'x': '5-9', 'y': 27},\n",
       "    {'x': '10-14', 'y': 39},\n",
       "    {'x': '15-19', 'y': 30},\n",
       "    {'x': '20-24', 'y': 592},\n",
       "    {'x': '25-29', 'y': 846},\n",
       "    {'x': '30-34', 'y': 551},\n",
       "    {'x': '35-39', 'y': 357},\n",
       "    {'x': '40-44', 'y': 165},\n",
       "    {'x': '45-49', 'y': 107},\n",
       "    {'x': '50-54', 'y': 85},\n",
       "    {'x': '55-59', 'y': 61},\n",
       "    {'x': '60-64', 'y': 44},\n",
       "    {'x': '65-69', 'y': 12},\n",
       "    {'x': '70-74', 'y': 8},\n",
       "    {'x': '75-79', 'y': 1},\n",
       "    {'x': '80-84', 'y': 3},\n",
       "    {'x': '85 Plus', 'y': 0}],\n",
       "   'color': '#000000'}],\n",
       " 'population_by_gender': [{'key': 'Data',\n",
       "   'values': [{'x': 'Male', 'y': 1519}, {'x': 'Female', 'y': 1492}]}],\n",
       " 'population_by_race': [{'key': 'Data',\n",
       "   'values': [{'x': 'White', 'y': 2088},\n",
       "    {'x': 'Black Or African American', 'y': 137},\n",
       "    {'x': 'American Indian Or Alaskan Native', 'y': 4},\n",
       "    {'x': 'Asian', 'y': 591},\n",
       "    {'x': 'Native Hawaiian & Other Pacific Islander', 'y': 0},\n",
       "    {'x': 'Other Race', 'y': 97},\n",
       "    {'x': 'Two Or More Races', 'y': 94}]}],\n",
       " 'head_of_household_by_age': [{'key': 'Owner',\n",
       "   'values': [{'x': '15-24', 'y': 21},\n",
       "    {'x': '25-34', 'y': 129},\n",
       "    {'x': '35-44', 'y': 91},\n",
       "    {'x': '45-54', 'y': 36},\n",
       "    {'x': '55-64', 'y': 14},\n",
       "    {'x': '65-74', 'y': 2},\n",
       "    {'x': '75-84', 'y': 1},\n",
       "    {'x': '85 Plus', 'y': 0}]},\n",
       "  {'key': 'Renter',\n",
       "   'values': [{'x': '15-24', 'y': 295},\n",
       "    {'x': '25-34', 'y': 725},\n",
       "    {'x': '35-44', 'y': 297},\n",
       "    {'x': '45-54', 'y': 105},\n",
       "    {'x': '55-64', 'y': 62},\n",
       "    {'x': '65-74', 'y': 11},\n",
       "    {'x': '75-84', 'y': 2},\n",
       "    {'x': '85 Plus', 'y': 0}]},\n",
       "  {'key': 'Total',\n",
       "   'values': [{'x': '15-24', 'y': 316},\n",
       "    {'x': '25-34', 'y': 854},\n",
       "    {'x': '35-44', 'y': 388},\n",
       "    {'x': '45-54', 'y': 141},\n",
       "    {'x': '55-64', 'y': 76},\n",
       "    {'x': '65-74', 'y': 13},\n",
       "    {'x': '75-84', 'y': 3},\n",
       "    {'x': '85 Plus', 'y': 0}],\n",
       "   'color': '#000000'}],\n",
       " 'families_vs_singles': [{'key': 'Data',\n",
       "   'values': [{'x': 'Husband Wife Family Households', 'y': 325},\n",
       "    {'x': 'Single Guardian', 'y': 80},\n",
       "    {'x': 'Singles', 'y': 888},\n",
       "    {'x': 'Singles With Roommate', 'y': 498}]}],\n",
       " 'households_with_kids': [{'key': 'Data',\n",
       "   'values': [{'x': 'Households Without Kids', 'y': 1686},\n",
       "    {'x': 'Households With Kids', 'y': 105}]}],\n",
       " 'children_by_age': [{'key': 'Male',\n",
       "   'values': [{'x': 0, 'y': 10},\n",
       "    {'x': 1, 'y': 9},\n",
       "    {'x': 2, 'y': 4},\n",
       "    {'x': 3, 'y': 5},\n",
       "    {'x': 4, 'y': 6},\n",
       "    {'x': 5, 'y': 4},\n",
       "    {'x': 6, 'y': 1},\n",
       "    {'x': 7, 'y': 1},\n",
       "    {'x': 8, 'y': 2},\n",
       "    {'x': 9, 'y': 6},\n",
       "    {'x': 10, 'y': 1},\n",
       "    {'x': 11, 'y': 6},\n",
       "    {'x': 12, 'y': 5},\n",
       "    {'x': 13, 'y': 4},\n",
       "    {'x': 14, 'y': 1},\n",
       "    {'x': 15, 'y': 4},\n",
       "    {'x': 16, 'y': 0},\n",
       "    {'x': 17, 'y': 4},\n",
       "    {'x': 18, 'y': 7},\n",
       "    {'x': 19, 'y': 17}]},\n",
       "  {'key': 'Female',\n",
       "   'values': [{'x': 0, 'y': 10},\n",
       "    {'x': 1, 'y': 11},\n",
       "    {'x': 2, 'y': 2},\n",
       "    {'x': 3, 'y': 7},\n",
       "    {'x': 4, 'y': 1},\n",
       "    {'x': 5, 'y': 3},\n",
       "    {'x': 6, 'y': 6},\n",
       "    {'x': 7, 'y': 1},\n",
       "    {'x': 8, 'y': 2},\n",
       "    {'x': 9, 'y': 4},\n",
       "    {'x': 10, 'y': 4},\n",
       "    {'x': 11, 'y': 4},\n",
       "    {'x': 12, 'y': 3},\n",
       "    {'x': 13, 'y': 2},\n",
       "    {'x': 14, 'y': 0},\n",
       "    {'x': 15, 'y': 5},\n",
       "    {'x': 16, 'y': 3},\n",
       "    {'x': 17, 'y': 2},\n",
       "    {'x': 18, 'y': 4},\n",
       "    {'x': 19, 'y': 39}]},\n",
       "  {'key': 'Total',\n",
       "   'values': [{'x': 0, 'y': 20},\n",
       "    {'x': 1, 'y': 20},\n",
       "    {'x': 2, 'y': 6},\n",
       "    {'x': 3, 'y': 12},\n",
       "    {'x': 4, 'y': 7},\n",
       "    {'x': 5, 'y': 7},\n",
       "    {'x': 6, 'y': 7},\n",
       "    {'x': 7, 'y': 2},\n",
       "    {'x': 8, 'y': 4},\n",
       "    {'x': 9, 'y': 10},\n",
       "    {'x': 10, 'y': 5},\n",
       "    {'x': 11, 'y': 10},\n",
       "    {'x': 12, 'y': 8},\n",
       "    {'x': 13, 'y': 6},\n",
       "    {'x': 14, 'y': 1},\n",
       "    {'x': 15, 'y': 9},\n",
       "    {'x': 16, 'y': 3},\n",
       "    {'x': 17, 'y': 6},\n",
       "    {'x': 18, 'y': 11},\n",
       "    {'x': 19, 'y': 56}],\n",
       "   'color': '#000000'}],\n",
       " 'housing_type': [{'key': 'Data',\n",
       "   'values': [{'x': 'In Occupied Housing Units', 'y': 3011},\n",
       "    {'x': 'Correctional Facility For Adults', 'y': 0},\n",
       "    {'x': 'Juvenile Facilities', 'y': 0},\n",
       "    {'x': 'Nursing Facilities', 'y': 0},\n",
       "    {'x': 'Other Institutional', 'y': 0},\n",
       "    {'x': 'College Student Housing', 'y': 0},\n",
       "    {'x': 'Military Quarters', 'y': 0},\n",
       "    {'x': 'Other Noninstitutional', 'y': 0}]}],\n",
       " 'year_housing_was_built': [{'key': 'Data',\n",
       "   'values': [{'x': '1939 Or Earlier', 'y': 1172},\n",
       "    {'x': '1940s', 'y': 74},\n",
       "    {'x': '1950s', 'y': 196},\n",
       "    {'x': '1960s', 'y': 46},\n",
       "    {'x': '1970s', 'y': 203},\n",
       "    {'x': '1980s', 'y': 48},\n",
       "    {'x': '1990s', 'y': 77},\n",
       "    {'x': '2000s', 'y': 184},\n",
       "    {'x': '2010 Or Later', 'y': 0}]}],\n",
       " 'housing_occupancy': [{'key': 'Data',\n",
       "   'values': [{'x': 'Owned Households With A Mortgage', 'y': 264},\n",
       "    {'x': 'Owned Households Free & Clear', 'y': 30},\n",
       "    {'x': 'Renter Occupied Households', 'y': 1497},\n",
       "    {'x': 'Households Vacant', 'y': 200}]}],\n",
       " 'vancancy_reason': [{'key': 'Data',\n",
       "   'values': [{'x': 'For Rent', 'y': 65},\n",
       "    {'x': 'Rented & Unoccupied', 'y': 6},\n",
       "    {'x': 'For Sale Only', 'y': 23},\n",
       "    {'x': 'Sold & Unoccupied', 'y': 4},\n",
       "    {'x': 'For Season Recreational Or Occasional Use', 'y': 86},\n",
       "    {'x': 'For Migrant Workers', 'y': 1},\n",
       "    {'x': 'Vacant For Other Reasons', 'y': 15}]}],\n",
       " 'owner_occupied_home_values': [{'key': 'Data',\n",
       "   'values': [{'x': '$1-$24,999', 'y': 0},\n",
       "    {'x': '$25,000-$49,999', 'y': 0},\n",
       "    {'x': '$50,000-$99,999', 'y': 0},\n",
       "    {'x': '$100,000-$149,999', 'y': 0},\n",
       "    {'x': '$150,000-$199,999', 'y': 0},\n",
       "    {'x': '$200,000-$399,999', 'y': 0},\n",
       "    {'x': '$400,000-$749,999', 'y': 98},\n",
       "    {'x': '$750,000+', 'y': 70}]}],\n",
       " 'rental_properties_by_number_of_rooms': [{'key': 'Data',\n",
       "   'values': [{'x': 'Studio Apartment', 'y': 628},\n",
       "    {'x': '1 Bedroom', 'y': 530},\n",
       "    {'x': '2 Bedroom', 'y': 225},\n",
       "    {'x': '3+ Bedroom', 'y': 47}]}],\n",
       " 'monthly_rent_including_utilities_studio_apt': [{'key': 'Data',\n",
       "   'values': [{'x': '< $200', 'y': 0},\n",
       "    {'x': '$200-$299', 'y': 0},\n",
       "    {'x': '$300-$499', 'y': 0},\n",
       "    {'x': '$500-$749', 'y': 0},\n",
       "    {'x': '$750-$999', 'y': 14},\n",
       "    {'x': '$1,000+', 'y': 602}]}],\n",
       " 'monthly_rent_including_utilities_1_b': [{'key': 'Data',\n",
       "   'values': [{'x': '< $200', 'y': 0},\n",
       "    {'x': '$200-$299', 'y': 0},\n",
       "    {'x': '$300-$499', 'y': 0},\n",
       "    {'x': '$500-$749', 'y': 0},\n",
       "    {'x': '$750-$999', 'y': 0},\n",
       "    {'x': '$1,000+', 'y': 530}]}],\n",
       " 'monthly_rent_including_utilities_2_b': [{'key': 'Data',\n",
       "   'values': [{'x': '< $200', 'y': 13},\n",
       "    {'x': '$200-$299', 'y': 0},\n",
       "    {'x': '$300-$499', 'y': 0},\n",
       "    {'x': '$500-$749', 'y': 10},\n",
       "    {'x': '$750-$999', 'y': 0},\n",
       "    {'x': '$1,000+', 'y': 202}]}],\n",
       " 'monthly_rent_including_utilities_3plus_b': [{'key': 'Data',\n",
       "   'values': [{'x': '< $200', 'y': 0},\n",
       "    {'x': '$200-$299', 'y': 0},\n",
       "    {'x': '$300-$499', 'y': 0},\n",
       "    {'x': '$500-$749', 'y': 0},\n",
       "    {'x': '$750-$999', 'y': 0},\n",
       "    {'x': '$1,000+', 'y': 47}]}],\n",
       " 'employment_status': [{'key': 'Data',\n",
       "   'values': [{'x': 'Worked Full-time With Earnings', 'y': 1699},\n",
       "    {'x': 'Worked Part-time With Earnings', 'y': 514},\n",
       "    {'x': 'No Earnings', 'y': 132}]}],\n",
       " 'average_household_income_over_time': [{'key': 'Data',\n",
       "   'values': [{'x': 2005, 'y': 157177.1672},\n",
       "    {'x': 2006, 'y': 165452.2097},\n",
       "    {'x': 2007, 'y': 180534.1443},\n",
       "    {'x': 2008, 'y': 171954.1015},\n",
       "    {'x': 2009, 'y': 154007.4203},\n",
       "    {'x': 2010, 'y': 168917.8383},\n",
       "    {'x': 2011, 'y': 204561.6495},\n",
       "    {'x': 2012, 'y': 176241.9913},\n",
       "    {'x': 2013, 'y': 178666.9492},\n",
       "    {'x': 2014, 'y': 179886.9388},\n",
       "    {'x': 2015, 'y': 193605.7613}]}],\n",
       " 'household_income': [{'key': 'Data',\n",
       "   'values': [{'x': '< $25,000', 'y': 188},\n",
       "    {'x': '$25,000-$44,999', 'y': 106},\n",
       "    {'x': '$45,000-$59,999', 'y': 177},\n",
       "    {'x': '$60,000-$99,999', 'y': 229},\n",
       "    {'x': '$100,000-$149,999', 'y': 324},\n",
       "    {'x': '$150,000-$199,999', 'y': 143},\n",
       "    {'x': '$200,000+', 'y': 431}]}],\n",
       " 'annual_individual_earnings': [{'key': 'Data',\n",
       "   'values': [{'x': '< $10,000', 'y': 82},\n",
       "    {'x': '$10,000-$19,999', 'y': 145},\n",
       "    {'x': '$20,000-$29,999', 'y': 202},\n",
       "    {'x': '$30,000-$39,999', 'y': 55},\n",
       "    {'x': '$40,000-$49,999', 'y': 128},\n",
       "    {'x': '$50,000-$64,999', 'y': 190},\n",
       "    {'x': '$65,000-$74,999', 'y': 61},\n",
       "    {'x': '$75,000-$99,999', 'y': 354},\n",
       "    {'x': '$100,000+', 'y': 996}]}],\n",
       " 'sources_of_household_income____percent_of_households_receiving_income': [{'key': 'Data',\n",
       "   'values': [{'x': 'Wages', 'y': 90.9465},\n",
       "    {'x': 'Business', 'y': 17.284},\n",
       "    {'x': 'Partnership', 'y': 11.1111},\n",
       "    {'x': 'Unemployment', 'y': 1.6461}]}],\n",
       " 'sources_of_household_income____average_income_per_household_by_income_source': [{'key': 'Data',\n",
       "   'values': [{'x': 'Wages', 'y': 146910.4072},\n",
       "    {'x': 'Business', 'y': 31600},\n",
       "    {'x': 'Partnership', 'y': 151225.9259},\n",
       "    {'x': 'Unemployment', 'y': 6950}]}],\n",
       " 'household_investment_income____percent_of_households_receiving_investment_income': [{'key': 'Data',\n",
       "   'values': [{'x': 'Interest', 'y': 43.6214},\n",
       "    {'x': 'Ordinary Dividends', 'y': 34.9794},\n",
       "    {'x': 'Qualified Dividends', 'y': 33.7449},\n",
       "    {'x': 'Capital Gains', 'y': 32.0988}]}],\n",
       " 'household_investment_income____average_income_per_household_by_income_source': [{'key': 'Data',\n",
       "   'values': [{'x': 'Interest', 'y': 5160.3774},\n",
       "    {'x': 'Ordinary Dividends', 'y': 14300},\n",
       "    {'x': 'Qualified Dividends', 'y': 9753.6585},\n",
       "    {'x': 'Capital Gains', 'y': 37156.4103}]}],\n",
       " 'household_retirement_income____percent_of_households_receiving_retirement_incom': [{'key': 'Data',\n",
       "   'values': [{'x': 'IRA Distributions', 'y': 2.8807},\n",
       "    {'x': 'Pensions/annuities', 'y': 4.9383},\n",
       "    {'x': 'Social Security', 'y': 2.4691}]}],\n",
       " 'household_retirement_income____average_income_per_household_by_income_source': [{'key': 'Data',\n",
       "   'values': [{'x': 'IRA Distributions', 'y': 21271.4286},\n",
       "    {'x': 'Pensions/annuities', 'y': 23625},\n",
       "    {'x': 'Social Security', 'y': 17750}]}],\n",
       " 'source_of_earnings': [{'key': 'Data',\n",
       "   'values': [{'x': 'Worked Full-time With Earnings', 'y': 1699},\n",
       "    {'x': 'Worked Part-time With Earnings', 'y': 514},\n",
       "    {'x': 'No Earnings', 'y': 132}]}],\n",
       " 'means_of_transportation_to_work_for_workers_16_and_over': [{'key': 'Data',\n",
       "   'values': [{'x': 'Car, Truck, Or Van', 'y': 46},\n",
       "    {'x': 'Public Transportation', 'y': 1209},\n",
       "    {'x': 'Taxicab', 'y': 25},\n",
       "    {'x': 'Motorcycle', 'y': 0},\n",
       "    {'x': 'Bicycle, Walked, Or Other Means', 'y': 635},\n",
       "    {'x': 'Worked At Home', 'y': 92}]}],\n",
       " 'travel_time_to_work_in_minutes': [{'key': 'Data',\n",
       "   'values': [{'x': '< 10', 'y': 301},\n",
       "    {'x': '10-19', 'y': 494},\n",
       "    {'x': '20-29', 'y': 479},\n",
       "    {'x': '30-39', 'y': 519},\n",
       "    {'x': '40-44', 'y': 40},\n",
       "    {'x': '45-59', 'y': 82},\n",
       "    {'x': '60-89', 'y': 0},\n",
       "    {'x': '90+', 'y': 0}]}],\n",
       " 'educational_attainment_for_population_25_and_over': [{'key': 'Data',\n",
       "   'values': [{'x': 'Less Than High School Diploma', 'y': 22},\n",
       "    {'x': 'High School Graduate', 'y': 227},\n",
       "    {'x': \"Associate's Degree\", 'y': 122},\n",
       "    {'x': \"Bachelor's Degree\", 'y': 814},\n",
       "    {'x': \"Master's Degree\", 'y': 472},\n",
       "    {'x': 'Professional School Degree', 'y': 220},\n",
       "    {'x': 'Doctorate Degree', 'y': 125}]}],\n",
       " 'school_enrollment_age_3_to_17': [{'key': 'Data',\n",
       "   'values': [{'x': 'Enrolled In Public School', 'y': 76},\n",
       "    {'x': 'Enrolled In Private School', 'y': 12},\n",
       "    {'x': 'Not Enrolled In School', 'y': 0}]}]}"
      ]
     },
     "execution_count": 31,
     "metadata": {},
     "output_type": "execute_result"
    }
   ],
   "source": [
    "result = search.by_coordinates(40.705178, -74.013538, radius=4, returns=5)\n",
    "result[0].to_dict()"
   ]
  },
  {
   "cell_type": "code",
   "execution_count": 32,
   "metadata": {},
   "outputs": [
    {
     "name": "stdout",
     "output_type": "stream",
     "text": [
      "10006\n",
      "10280\n",
      "10271\n",
      "10005\n",
      "10004\n"
     ]
    }
   ],
   "source": [
    "for i in range(0, len(result)):\n",
    "    #print(result[i].to_dict()['lat'], result[i].to_dict()['lng'])\n",
    "    print(result[i].to_dict()['zipcode'])"
   ]
  },
  {
   "cell_type": "code",
   "execution_count": null,
   "metadata": {},
   "outputs": [],
   "source": [
    "len(result)"
   ]
  },
  {
   "cell_type": "code",
   "execution_count": null,
   "metadata": {},
   "outputs": [],
   "source": [
    "res = search.by_city_and_state(\"new york city\", \"NY\")"
   ]
  },
  {
   "cell_type": "code",
   "execution_count": null,
   "metadata": {},
   "outputs": [],
   "source": [
    "res"
   ]
  },
  {
   "cell_type": "markdown",
   "metadata": {},
   "source": [
    "# Latitude and Longitude to Zipcode with geopy"
   ]
  },
  {
   "cell_type": "code",
   "execution_count": 33,
   "metadata": {},
   "outputs": [
    {
     "name": "stdout",
     "output_type": "stream",
     "text": [
      "Collecting geopy\n",
      "\u001b[?25l  Downloading https://files.pythonhosted.org/packages/a8/5c/ca78a17b2c6fe1179e9221c9280bb5d8caaf048a631ed72caed40c52de24/geopy-1.18.1-py2.py3-none-any.whl (98kB)\n",
      "\u001b[K    100% |████████████████████████████████| 102kB 3.4MB/s a 0:00:01\n",
      "\u001b[?25hCollecting geographiclib<2,>=1.49 (from geopy)\n",
      "  Downloading https://files.pythonhosted.org/packages/5b/ac/4f348828091490d77899bc74e92238e2b55c59392f21948f296e94e50e2b/geographiclib-1.49.tar.gz\n",
      "Building wheels for collected packages: geographiclib\n",
      "  Running setup.py bdist_wheel for geographiclib ... \u001b[?25ldone\n",
      "\u001b[?25h  Stored in directory: /Users/justinmitchell/Library/Caches/pip/wheels/99/45/d1/14954797e2a976083182c2e7da9b4e924509e59b6e5c661061\n",
      "Successfully built geographiclib\n",
      "Installing collected packages: geographiclib, geopy\n",
      "Successfully installed geographiclib-1.49 geopy-1.18.1\n"
     ]
    }
   ],
   "source": [
    "!pip install geopy"
   ]
  },
  {
   "cell_type": "code",
   "execution_count": 1,
   "metadata": {},
   "outputs": [],
   "source": [
    "from geopy.geocoders import Nominatim\n",
    "geolocator = Nominatim(user_agent=\"jdmitchell\")\n",
    "location = geolocator.reverse(\"40.705356, -74.013438\")\n",
    "print(location.address)"
   ]
  },
  {
   "cell_type": "code",
   "execution_count": 2,
   "metadata": {},
   "outputs": [],
   "source": [
    "geolocator = Nominatim(user_agent=\"jdmitchell\")"
   ]
  },
  {
   "cell_type": "code",
   "execution_count": 4,
   "metadata": {},
   "outputs": [
    {
     "name": "stdout",
     "output_type": "stream",
     "text": [
      "26 Broadway, 26, Broadway, Financial District, Manhattan, Manhattan Community Board 1, New York County, NYC, New York, 10004, USA\n"
     ]
    }
   ],
   "source": [
    "location = geolocator.reverse(\"40.705356, -74.013438\")\n",
    "print(location.address)"
   ]
  },
  {
   "cell_type": "code",
   "execution_count": 49,
   "metadata": {},
   "outputs": [
    {
     "name": "stdout",
     "output_type": "stream",
     "text": [
      "Gramercy Park, Gramercy, Manhattan, Manhattan Community Board 6, New York County, NYC, New York, USA\n"
     ]
    }
   ],
   "source": [
    "print(location.address)\n",
    "lat = location.latitude\n",
    "long = location.longitude"
   ]
  },
  {
   "cell_type": "code",
   "execution_count": 48,
   "metadata": {},
   "outputs": [
    {
     "name": "stdout",
     "output_type": "stream",
     "text": [
      "Gramercy Park, Gramercy, Manhattan, Manhattan Community Board 6, New York County, NYC, New York, USA\n"
     ]
    }
   ],
   "source": [
    "location = geolocator.geocode(\"Gramercy Park, Gramercy, Manhattan, Manhattan Community Board 6, New York County, NYC, New York, USA\")\n",
    "print(location.address)"
   ]
  },
  {
   "cell_type": "code",
   "execution_count": 51,
   "metadata": {},
   "outputs": [
    {
     "name": "stdout",
     "output_type": "stream",
     "text": [
      "Gramercy Park, Gramercy, Manhattan, Manhattan Community Board 6, New York County, NYC, New York, USA\n"
     ]
    },
    {
     "data": {
      "text/plain": [
       "40.73792525"
      ]
     },
     "execution_count": 51,
     "metadata": {},
     "output_type": "execute_result"
    }
   ],
   "source": [
    "print(location.address)\n",
    "lat = location.latitude\n",
    "long = location.longitude\n",
    "lat"
   ]
  },
  {
   "cell_type": "code",
   "execution_count": 56,
   "metadata": {},
   "outputs": [
    {
     "data": {
      "text/plain": [
       "'40.73792525, -73.9859323962158'"
      ]
     },
     "execution_count": 56,
     "metadata": {},
     "output_type": "execute_result"
    }
   ],
   "source": [
    "f'{str(lat)}, {str(long)}'"
   ]
  },
  {
   "cell_type": "code",
   "execution_count": 57,
   "metadata": {},
   "outputs": [],
   "source": [
    "location = geolocator.reverse(f'{str(lat)}, {str(long)}')"
   ]
  },
  {
   "cell_type": "code",
   "execution_count": 58,
   "metadata": {},
   "outputs": [
    {
     "data": {
      "text/plain": [
       "'Edwin Booth, Gramercy Park South, Gramercy, Manhattan, Manhattan Community Board 6, New York County, NYC, New York, 10010, USA'"
      ]
     },
     "execution_count": 58,
     "metadata": {},
     "output_type": "execute_result"
    }
   ],
   "source": [
    "location.address"
   ]
  },
  {
   "cell_type": "markdown",
   "metadata": {},
   "source": [
    "# Neighborhood to zipcode"
   ]
  },
  {
   "cell_type": "code",
   "execution_count": null,
   "metadata": {},
   "outputs": [],
   "source": []
  }
 ],
 "metadata": {
  "kernelspec": {
   "display_name": "base",
   "language": "python",
   "name": "base"
  },
  "language_info": {
   "codemirror_mode": {
    "name": "ipython",
    "version": 3
   },
   "file_extension": ".py",
   "mimetype": "text/x-python",
   "name": "python",
   "nbconvert_exporter": "python",
   "pygments_lexer": "ipython3",
   "version": "3.7.1"
  },
  "varInspector": {
   "cols": {
    "lenName": 16,
    "lenType": 16,
    "lenVar": 40
   },
   "kernels_config": {
    "python": {
     "delete_cmd_postfix": "",
     "delete_cmd_prefix": "del ",
     "library": "var_list.py",
     "varRefreshCmd": "print(var_dic_list())"
    },
    "r": {
     "delete_cmd_postfix": ") ",
     "delete_cmd_prefix": "rm(",
     "library": "var_list.r",
     "varRefreshCmd": "cat(var_dic_list()) "
    }
   },
   "types_to_exclude": [
    "module",
    "function",
    "builtin_function_or_method",
    "instance",
    "_Feature"
   ],
   "window_display": false
  }
 },
 "nbformat": 4,
 "nbformat_minor": 2
}
